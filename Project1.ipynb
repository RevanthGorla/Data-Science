{
 "cells": [
  {
   "cell_type": "markdown",
   "metadata": {},
   "source": [
    "# Project 1 - Mercedes-Benz Greener Manufacturing"
   ]
  },
  {
   "cell_type": "markdown",
   "metadata": {},
   "source": [
    "## Following actions should be performed:\n",
    "\n",
    "## 1)If for any column(s), the variance is equal to zero, then you need to remove those variable(s).\n",
    "## 2)Check for null and unique values for test and train sets.\n",
    "## 3)Apply label encoder.\n",
    "## 4)Perform dimensionality reduction.\n",
    "## 5)Predict your test_df values using XGBoost."
   ]
  },
  {
   "cell_type": "markdown",
   "metadata": {},
   "source": [
    "## IMPORTS"
   ]
  },
  {
   "cell_type": "code",
   "execution_count": 81,
   "metadata": {},
   "outputs": [],
   "source": [
    "import numpy as np \n",
    "import pandas as pd \n",
    "import seaborn as sns  \n",
    "import matplotlib.pyplot as plt\n",
    "import warnings\n",
    "warnings.filterwarnings(action=\"ignore\")\n",
    "import re\n",
    "import scipy as sp"
   ]
  },
  {
   "cell_type": "markdown",
   "metadata": {},
   "source": [
    "## READING THE CSV FILES"
   ]
  },
  {
   "cell_type": "code",
   "execution_count": 82,
   "metadata": {},
   "outputs": [
    {
     "name": "stdout",
     "output_type": "stream",
     "text": [
      "(200, 378)\n",
      "Index(['ID', 'y', 'X0', 'X1', 'X2', 'X3', 'X4', 'X5', 'X6', 'X8',\n",
      "       ...\n",
      "       'X375', 'X376', 'X377', 'X378', 'X379', 'X380', 'X382', 'X383', 'X384',\n",
      "       'X385'],\n",
      "      dtype='object', length=378)\n",
      "(4209, 377)\n",
      "Index(['ID', 'X0', 'X1', 'X2', 'X3', 'X4', 'X5', 'X6', 'X8', 'X10',\n",
      "       ...\n",
      "       'X375', 'X376', 'X377', 'X378', 'X379', 'X380', 'X382', 'X383', 'X384',\n",
      "       'X385'],\n",
      "      dtype='object', length=377)\n"
     ]
    }
   ],
   "source": [
    "train_df=pd.read_csv(r\"train.csv\",nrows=200)\n",
    "test_df=pd.read_csv(r\"test.csv\")\n",
    "print (train_df.shape)\n",
    "print (train_df.columns)\n",
    "print (test_df.shape)\n",
    "print (test_df.columns)"
   ]
  },
  {
   "cell_type": "code",
   "execution_count": 83,
   "metadata": {},
   "outputs": [
    {
     "name": "stdout",
     "output_type": "stream",
     "text": [
      "<class 'pandas.core.frame.DataFrame'>\n",
      "RangeIndex: 200 entries, 0 to 199\n",
      "Columns: 378 entries, ID to X385\n",
      "dtypes: float64(1), int64(369), object(8)\n",
      "memory usage: 590.7+ KB\n"
     ]
    }
   ],
   "source": [
    "train_df.info()"
   ]
  },
  {
   "cell_type": "code",
   "execution_count": 84,
   "metadata": {},
   "outputs": [
    {
     "name": "stdout",
     "output_type": "stream",
     "text": [
      "<class 'pandas.core.frame.DataFrame'>\n",
      "RangeIndex: 4209 entries, 0 to 4208\n",
      "Columns: 377 entries, ID to X385\n",
      "dtypes: int64(369), object(8)\n",
      "memory usage: 12.1+ MB\n"
     ]
    }
   ],
   "source": [
    "test_df.info()"
   ]
  },
  {
   "cell_type": "code",
   "execution_count": 85,
   "metadata": {},
   "outputs": [
    {
     "data": {
      "text/html": [
       "<div>\n",
       "<style scoped>\n",
       "    .dataframe tbody tr th:only-of-type {\n",
       "        vertical-align: middle;\n",
       "    }\n",
       "\n",
       "    .dataframe tbody tr th {\n",
       "        vertical-align: top;\n",
       "    }\n",
       "\n",
       "    .dataframe thead th {\n",
       "        text-align: right;\n",
       "    }\n",
       "</style>\n",
       "<table border=\"1\" class=\"dataframe\">\n",
       "  <thead>\n",
       "    <tr style=\"text-align: right;\">\n",
       "      <th></th>\n",
       "      <th>ID</th>\n",
       "      <th>y</th>\n",
       "      <th>X10</th>\n",
       "      <th>X11</th>\n",
       "      <th>X12</th>\n",
       "      <th>X13</th>\n",
       "      <th>X14</th>\n",
       "      <th>X15</th>\n",
       "      <th>X16</th>\n",
       "      <th>X17</th>\n",
       "      <th>...</th>\n",
       "      <th>X375</th>\n",
       "      <th>X376</th>\n",
       "      <th>X377</th>\n",
       "      <th>X378</th>\n",
       "      <th>X379</th>\n",
       "      <th>X380</th>\n",
       "      <th>X382</th>\n",
       "      <th>X383</th>\n",
       "      <th>X384</th>\n",
       "      <th>X385</th>\n",
       "    </tr>\n",
       "  </thead>\n",
       "  <tbody>\n",
       "    <tr>\n",
       "      <th>count</th>\n",
       "      <td>200.000000</td>\n",
       "      <td>200.000000</td>\n",
       "      <td>200.000000</td>\n",
       "      <td>200.0</td>\n",
       "      <td>200.000000</td>\n",
       "      <td>200.000000</td>\n",
       "      <td>200.000000</td>\n",
       "      <td>200.0</td>\n",
       "      <td>200.000000</td>\n",
       "      <td>200.000000</td>\n",
       "      <td>...</td>\n",
       "      <td>200.000000</td>\n",
       "      <td>200.000000</td>\n",
       "      <td>200.000000</td>\n",
       "      <td>200.000000</td>\n",
       "      <td>200.0</td>\n",
       "      <td>200.000000</td>\n",
       "      <td>200.000000</td>\n",
       "      <td>200.0</td>\n",
       "      <td>200.000000</td>\n",
       "      <td>200.0</td>\n",
       "    </tr>\n",
       "    <tr>\n",
       "      <th>mean</th>\n",
       "      <td>213.865000</td>\n",
       "      <td>100.323950</td>\n",
       "      <td>0.010000</td>\n",
       "      <td>0.0</td>\n",
       "      <td>0.060000</td>\n",
       "      <td>0.085000</td>\n",
       "      <td>0.445000</td>\n",
       "      <td>0.0</td>\n",
       "      <td>0.005000</td>\n",
       "      <td>0.015000</td>\n",
       "      <td>...</td>\n",
       "      <td>0.270000</td>\n",
       "      <td>0.060000</td>\n",
       "      <td>0.345000</td>\n",
       "      <td>0.015000</td>\n",
       "      <td>0.0</td>\n",
       "      <td>0.010000</td>\n",
       "      <td>0.015000</td>\n",
       "      <td>0.0</td>\n",
       "      <td>0.005000</td>\n",
       "      <td>0.0</td>\n",
       "    </tr>\n",
       "    <tr>\n",
       "      <th>std</th>\n",
       "      <td>117.959523</td>\n",
       "      <td>11.807215</td>\n",
       "      <td>0.099748</td>\n",
       "      <td>0.0</td>\n",
       "      <td>0.238083</td>\n",
       "      <td>0.279582</td>\n",
       "      <td>0.498213</td>\n",
       "      <td>0.0</td>\n",
       "      <td>0.070711</td>\n",
       "      <td>0.121857</td>\n",
       "      <td>...</td>\n",
       "      <td>0.445074</td>\n",
       "      <td>0.238083</td>\n",
       "      <td>0.476561</td>\n",
       "      <td>0.121857</td>\n",
       "      <td>0.0</td>\n",
       "      <td>0.099748</td>\n",
       "      <td>0.121857</td>\n",
       "      <td>0.0</td>\n",
       "      <td>0.070711</td>\n",
       "      <td>0.0</td>\n",
       "    </tr>\n",
       "    <tr>\n",
       "      <th>min</th>\n",
       "      <td>0.000000</td>\n",
       "      <td>73.700000</td>\n",
       "      <td>0.000000</td>\n",
       "      <td>0.0</td>\n",
       "      <td>0.000000</td>\n",
       "      <td>0.000000</td>\n",
       "      <td>0.000000</td>\n",
       "      <td>0.0</td>\n",
       "      <td>0.000000</td>\n",
       "      <td>0.000000</td>\n",
       "      <td>...</td>\n",
       "      <td>0.000000</td>\n",
       "      <td>0.000000</td>\n",
       "      <td>0.000000</td>\n",
       "      <td>0.000000</td>\n",
       "      <td>0.0</td>\n",
       "      <td>0.000000</td>\n",
       "      <td>0.000000</td>\n",
       "      <td>0.0</td>\n",
       "      <td>0.000000</td>\n",
       "      <td>0.0</td>\n",
       "    </tr>\n",
       "    <tr>\n",
       "      <th>25%</th>\n",
       "      <td>122.750000</td>\n",
       "      <td>90.962500</td>\n",
       "      <td>0.000000</td>\n",
       "      <td>0.0</td>\n",
       "      <td>0.000000</td>\n",
       "      <td>0.000000</td>\n",
       "      <td>0.000000</td>\n",
       "      <td>0.0</td>\n",
       "      <td>0.000000</td>\n",
       "      <td>0.000000</td>\n",
       "      <td>...</td>\n",
       "      <td>0.000000</td>\n",
       "      <td>0.000000</td>\n",
       "      <td>0.000000</td>\n",
       "      <td>0.000000</td>\n",
       "      <td>0.0</td>\n",
       "      <td>0.000000</td>\n",
       "      <td>0.000000</td>\n",
       "      <td>0.0</td>\n",
       "      <td>0.000000</td>\n",
       "      <td>0.0</td>\n",
       "    </tr>\n",
       "    <tr>\n",
       "      <th>50%</th>\n",
       "      <td>213.500000</td>\n",
       "      <td>98.205000</td>\n",
       "      <td>0.000000</td>\n",
       "      <td>0.0</td>\n",
       "      <td>0.000000</td>\n",
       "      <td>0.000000</td>\n",
       "      <td>0.000000</td>\n",
       "      <td>0.0</td>\n",
       "      <td>0.000000</td>\n",
       "      <td>0.000000</td>\n",
       "      <td>...</td>\n",
       "      <td>0.000000</td>\n",
       "      <td>0.000000</td>\n",
       "      <td>0.000000</td>\n",
       "      <td>0.000000</td>\n",
       "      <td>0.0</td>\n",
       "      <td>0.000000</td>\n",
       "      <td>0.000000</td>\n",
       "      <td>0.0</td>\n",
       "      <td>0.000000</td>\n",
       "      <td>0.0</td>\n",
       "    </tr>\n",
       "    <tr>\n",
       "      <th>75%</th>\n",
       "      <td>319.250000</td>\n",
       "      <td>108.847500</td>\n",
       "      <td>0.000000</td>\n",
       "      <td>0.0</td>\n",
       "      <td>0.000000</td>\n",
       "      <td>0.000000</td>\n",
       "      <td>1.000000</td>\n",
       "      <td>0.0</td>\n",
       "      <td>0.000000</td>\n",
       "      <td>0.000000</td>\n",
       "      <td>...</td>\n",
       "      <td>1.000000</td>\n",
       "      <td>0.000000</td>\n",
       "      <td>1.000000</td>\n",
       "      <td>0.000000</td>\n",
       "      <td>0.0</td>\n",
       "      <td>0.000000</td>\n",
       "      <td>0.000000</td>\n",
       "      <td>0.0</td>\n",
       "      <td>0.000000</td>\n",
       "      <td>0.0</td>\n",
       "    </tr>\n",
       "    <tr>\n",
       "      <th>max</th>\n",
       "      <td>407.000000</td>\n",
       "      <td>139.200000</td>\n",
       "      <td>1.000000</td>\n",
       "      <td>0.0</td>\n",
       "      <td>1.000000</td>\n",
       "      <td>1.000000</td>\n",
       "      <td>1.000000</td>\n",
       "      <td>0.0</td>\n",
       "      <td>1.000000</td>\n",
       "      <td>1.000000</td>\n",
       "      <td>...</td>\n",
       "      <td>1.000000</td>\n",
       "      <td>1.000000</td>\n",
       "      <td>1.000000</td>\n",
       "      <td>1.000000</td>\n",
       "      <td>0.0</td>\n",
       "      <td>1.000000</td>\n",
       "      <td>1.000000</td>\n",
       "      <td>0.0</td>\n",
       "      <td>1.000000</td>\n",
       "      <td>0.0</td>\n",
       "    </tr>\n",
       "  </tbody>\n",
       "</table>\n",
       "<p>8 rows × 370 columns</p>\n",
       "</div>"
      ],
      "text/plain": [
       "               ID           y         X10    X11         X12         X13  \\\n",
       "count  200.000000  200.000000  200.000000  200.0  200.000000  200.000000   \n",
       "mean   213.865000  100.323950    0.010000    0.0    0.060000    0.085000   \n",
       "std    117.959523   11.807215    0.099748    0.0    0.238083    0.279582   \n",
       "min      0.000000   73.700000    0.000000    0.0    0.000000    0.000000   \n",
       "25%    122.750000   90.962500    0.000000    0.0    0.000000    0.000000   \n",
       "50%    213.500000   98.205000    0.000000    0.0    0.000000    0.000000   \n",
       "75%    319.250000  108.847500    0.000000    0.0    0.000000    0.000000   \n",
       "max    407.000000  139.200000    1.000000    0.0    1.000000    1.000000   \n",
       "\n",
       "              X14    X15         X16         X17  ...        X375        X376  \\\n",
       "count  200.000000  200.0  200.000000  200.000000  ...  200.000000  200.000000   \n",
       "mean     0.445000    0.0    0.005000    0.015000  ...    0.270000    0.060000   \n",
       "std      0.498213    0.0    0.070711    0.121857  ...    0.445074    0.238083   \n",
       "min      0.000000    0.0    0.000000    0.000000  ...    0.000000    0.000000   \n",
       "25%      0.000000    0.0    0.000000    0.000000  ...    0.000000    0.000000   \n",
       "50%      0.000000    0.0    0.000000    0.000000  ...    0.000000    0.000000   \n",
       "75%      1.000000    0.0    0.000000    0.000000  ...    1.000000    0.000000   \n",
       "max      1.000000    0.0    1.000000    1.000000  ...    1.000000    1.000000   \n",
       "\n",
       "             X377        X378   X379        X380        X382   X383  \\\n",
       "count  200.000000  200.000000  200.0  200.000000  200.000000  200.0   \n",
       "mean     0.345000    0.015000    0.0    0.010000    0.015000    0.0   \n",
       "std      0.476561    0.121857    0.0    0.099748    0.121857    0.0   \n",
       "min      0.000000    0.000000    0.0    0.000000    0.000000    0.0   \n",
       "25%      0.000000    0.000000    0.0    0.000000    0.000000    0.0   \n",
       "50%      0.000000    0.000000    0.0    0.000000    0.000000    0.0   \n",
       "75%      1.000000    0.000000    0.0    0.000000    0.000000    0.0   \n",
       "max      1.000000    1.000000    0.0    1.000000    1.000000    0.0   \n",
       "\n",
       "             X384   X385  \n",
       "count  200.000000  200.0  \n",
       "mean     0.005000    0.0  \n",
       "std      0.070711    0.0  \n",
       "min      0.000000    0.0  \n",
       "25%      0.000000    0.0  \n",
       "50%      0.000000    0.0  \n",
       "75%      0.000000    0.0  \n",
       "max      1.000000    0.0  \n",
       "\n",
       "[8 rows x 370 columns]"
      ]
     },
     "execution_count": 85,
     "metadata": {},
     "output_type": "execute_result"
    }
   ],
   "source": [
    "train_df.describe()"
   ]
  },
  {
   "cell_type": "markdown",
   "metadata": {},
   "source": [
    "## 1)Checking for null Values"
   ]
  },
  {
   "cell_type": "code",
   "execution_count": 86,
   "metadata": {},
   "outputs": [
    {
     "data": {
      "text/plain": [
       "ID      0\n",
       "y       0\n",
       "X0      0\n",
       "X1      0\n",
       "X2      0\n",
       "X3      0\n",
       "X4      0\n",
       "X5      0\n",
       "X6      0\n",
       "X8      0\n",
       "X10     0\n",
       "X11     0\n",
       "X12     0\n",
       "X13     0\n",
       "X14     0\n",
       "X15     0\n",
       "X16     0\n",
       "X17     0\n",
       "X18     0\n",
       "X19     0\n",
       "X20     0\n",
       "X21     0\n",
       "X22     0\n",
       "X23     0\n",
       "X24     0\n",
       "X26     0\n",
       "X27     0\n",
       "X28     0\n",
       "X29     0\n",
       "X30     0\n",
       "       ..\n",
       "X355    0\n",
       "X356    0\n",
       "X357    0\n",
       "X358    0\n",
       "X359    0\n",
       "X360    0\n",
       "X361    0\n",
       "X362    0\n",
       "X363    0\n",
       "X364    0\n",
       "X365    0\n",
       "X366    0\n",
       "X367    0\n",
       "X368    0\n",
       "X369    0\n",
       "X370    0\n",
       "X371    0\n",
       "X372    0\n",
       "X373    0\n",
       "X374    0\n",
       "X375    0\n",
       "X376    0\n",
       "X377    0\n",
       "X378    0\n",
       "X379    0\n",
       "X380    0\n",
       "X382    0\n",
       "X383    0\n",
       "X384    0\n",
       "X385    0\n",
       "Length: 378, dtype: int64"
      ]
     },
     "execution_count": 86,
     "metadata": {},
     "output_type": "execute_result"
    }
   ],
   "source": [
    "train_df.isnull().sum()"
   ]
  },
  {
   "cell_type": "code",
   "execution_count": 87,
   "metadata": {},
   "outputs": [
    {
     "name": "stdout",
     "output_type": "stream",
     "text": [
      "ID      0\n",
      "y       0\n",
      "X0      0\n",
      "X1      0\n",
      "X2      0\n",
      "X3      0\n",
      "X4      0\n",
      "X5      0\n",
      "X6      0\n",
      "X8      0\n",
      "X10     0\n",
      "X11     0\n",
      "X12     0\n",
      "X13     0\n",
      "X14     0\n",
      "X15     0\n",
      "X16     0\n",
      "X17     0\n",
      "X18     0\n",
      "X19     0\n",
      "X20     0\n",
      "X21     0\n",
      "X22     0\n",
      "X23     0\n",
      "X24     0\n",
      "X26     0\n",
      "X27     0\n",
      "X28     0\n",
      "X29     0\n",
      "X30     0\n",
      "       ..\n",
      "X355    0\n",
      "X356    0\n",
      "X357    0\n",
      "X358    0\n",
      "X359    0\n",
      "X360    0\n",
      "X361    0\n",
      "X362    0\n",
      "X363    0\n",
      "X364    0\n",
      "X365    0\n",
      "X366    0\n",
      "X367    0\n",
      "X368    0\n",
      "X369    0\n",
      "X370    0\n",
      "X371    0\n",
      "X372    0\n",
      "X373    0\n",
      "X374    0\n",
      "X375    0\n",
      "X376    0\n",
      "X377    0\n",
      "X378    0\n",
      "X379    0\n",
      "X380    0\n",
      "X382    0\n",
      "X383    0\n",
      "X384    0\n",
      "X385    0\n",
      "Length: 378, dtype: int64\n"
     ]
    }
   ],
   "source": [
    "train_df.dropna(inplace=True)\n",
    "print(train_df.isnull().sum())"
   ]
  },
  {
   "cell_type": "code",
   "execution_count": 88,
   "metadata": {},
   "outputs": [
    {
     "data": {
      "text/html": [
       "<div>\n",
       "<style scoped>\n",
       "    .dataframe tbody tr th:only-of-type {\n",
       "        vertical-align: middle;\n",
       "    }\n",
       "\n",
       "    .dataframe tbody tr th {\n",
       "        vertical-align: top;\n",
       "    }\n",
       "\n",
       "    .dataframe thead th {\n",
       "        text-align: right;\n",
       "    }\n",
       "</style>\n",
       "<table border=\"1\" class=\"dataframe\">\n",
       "  <thead>\n",
       "    <tr style=\"text-align: right;\">\n",
       "      <th></th>\n",
       "      <th>ID</th>\n",
       "      <th>y</th>\n",
       "      <th>X0</th>\n",
       "      <th>X1</th>\n",
       "      <th>X2</th>\n",
       "      <th>X3</th>\n",
       "      <th>X4</th>\n",
       "      <th>X5</th>\n",
       "      <th>X6</th>\n",
       "      <th>X8</th>\n",
       "      <th>...</th>\n",
       "      <th>X375</th>\n",
       "      <th>X376</th>\n",
       "      <th>X377</th>\n",
       "      <th>X378</th>\n",
       "      <th>X379</th>\n",
       "      <th>X380</th>\n",
       "      <th>X382</th>\n",
       "      <th>X383</th>\n",
       "      <th>X384</th>\n",
       "      <th>X385</th>\n",
       "    </tr>\n",
       "  </thead>\n",
       "  <tbody>\n",
       "    <tr>\n",
       "      <th>0</th>\n",
       "      <td>0</td>\n",
       "      <td>130.81</td>\n",
       "      <td>k</td>\n",
       "      <td>v</td>\n",
       "      <td>at</td>\n",
       "      <td>a</td>\n",
       "      <td>d</td>\n",
       "      <td>u</td>\n",
       "      <td>j</td>\n",
       "      <td>o</td>\n",
       "      <td>...</td>\n",
       "      <td>0</td>\n",
       "      <td>0</td>\n",
       "      <td>1</td>\n",
       "      <td>0</td>\n",
       "      <td>0</td>\n",
       "      <td>0</td>\n",
       "      <td>0</td>\n",
       "      <td>0</td>\n",
       "      <td>0</td>\n",
       "      <td>0</td>\n",
       "    </tr>\n",
       "    <tr>\n",
       "      <th>1</th>\n",
       "      <td>6</td>\n",
       "      <td>88.53</td>\n",
       "      <td>k</td>\n",
       "      <td>t</td>\n",
       "      <td>av</td>\n",
       "      <td>e</td>\n",
       "      <td>d</td>\n",
       "      <td>y</td>\n",
       "      <td>l</td>\n",
       "      <td>o</td>\n",
       "      <td>...</td>\n",
       "      <td>1</td>\n",
       "      <td>0</td>\n",
       "      <td>0</td>\n",
       "      <td>0</td>\n",
       "      <td>0</td>\n",
       "      <td>0</td>\n",
       "      <td>0</td>\n",
       "      <td>0</td>\n",
       "      <td>0</td>\n",
       "      <td>0</td>\n",
       "    </tr>\n",
       "    <tr>\n",
       "      <th>2</th>\n",
       "      <td>7</td>\n",
       "      <td>76.26</td>\n",
       "      <td>az</td>\n",
       "      <td>w</td>\n",
       "      <td>n</td>\n",
       "      <td>c</td>\n",
       "      <td>d</td>\n",
       "      <td>x</td>\n",
       "      <td>j</td>\n",
       "      <td>x</td>\n",
       "      <td>...</td>\n",
       "      <td>0</td>\n",
       "      <td>0</td>\n",
       "      <td>0</td>\n",
       "      <td>0</td>\n",
       "      <td>0</td>\n",
       "      <td>0</td>\n",
       "      <td>1</td>\n",
       "      <td>0</td>\n",
       "      <td>0</td>\n",
       "      <td>0</td>\n",
       "    </tr>\n",
       "    <tr>\n",
       "      <th>3</th>\n",
       "      <td>9</td>\n",
       "      <td>80.62</td>\n",
       "      <td>az</td>\n",
       "      <td>t</td>\n",
       "      <td>n</td>\n",
       "      <td>f</td>\n",
       "      <td>d</td>\n",
       "      <td>x</td>\n",
       "      <td>l</td>\n",
       "      <td>e</td>\n",
       "      <td>...</td>\n",
       "      <td>0</td>\n",
       "      <td>0</td>\n",
       "      <td>0</td>\n",
       "      <td>0</td>\n",
       "      <td>0</td>\n",
       "      <td>0</td>\n",
       "      <td>0</td>\n",
       "      <td>0</td>\n",
       "      <td>0</td>\n",
       "      <td>0</td>\n",
       "    </tr>\n",
       "    <tr>\n",
       "      <th>4</th>\n",
       "      <td>13</td>\n",
       "      <td>78.02</td>\n",
       "      <td>az</td>\n",
       "      <td>v</td>\n",
       "      <td>n</td>\n",
       "      <td>f</td>\n",
       "      <td>d</td>\n",
       "      <td>h</td>\n",
       "      <td>d</td>\n",
       "      <td>n</td>\n",
       "      <td>...</td>\n",
       "      <td>0</td>\n",
       "      <td>0</td>\n",
       "      <td>0</td>\n",
       "      <td>0</td>\n",
       "      <td>0</td>\n",
       "      <td>0</td>\n",
       "      <td>0</td>\n",
       "      <td>0</td>\n",
       "      <td>0</td>\n",
       "      <td>0</td>\n",
       "    </tr>\n",
       "  </tbody>\n",
       "</table>\n",
       "<p>5 rows × 378 columns</p>\n",
       "</div>"
      ],
      "text/plain": [
       "   ID       y  X0 X1  X2 X3 X4 X5 X6 X8  ...  X375  X376  X377  X378  X379  \\\n",
       "0   0  130.81   k  v  at  a  d  u  j  o  ...     0     0     1     0     0   \n",
       "1   6   88.53   k  t  av  e  d  y  l  o  ...     1     0     0     0     0   \n",
       "2   7   76.26  az  w   n  c  d  x  j  x  ...     0     0     0     0     0   \n",
       "3   9   80.62  az  t   n  f  d  x  l  e  ...     0     0     0     0     0   \n",
       "4  13   78.02  az  v   n  f  d  h  d  n  ...     0     0     0     0     0   \n",
       "\n",
       "   X380  X382  X383  X384  X385  \n",
       "0     0     0     0     0     0  \n",
       "1     0     0     0     0     0  \n",
       "2     0     1     0     0     0  \n",
       "3     0     0     0     0     0  \n",
       "4     0     0     0     0     0  \n",
       "\n",
       "[5 rows x 378 columns]"
      ]
     },
     "execution_count": 88,
     "metadata": {},
     "output_type": "execute_result"
    }
   ],
   "source": [
    "train_df.head()"
   ]
  },
  {
   "cell_type": "markdown",
   "metadata": {},
   "source": [
    "## 2)Feature Selection"
   ]
  },
  {
   "cell_type": "code",
   "execution_count": 89,
   "metadata": {},
   "outputs": [
    {
     "name": "stdout",
     "output_type": "stream",
     "text": [
      "Number of features: 376\n",
      "Feature types:\n"
     ]
    },
    {
     "data": {
      "text/plain": [
       "int64     368\n",
       "object      8\n",
       "dtype: int64"
      ]
     },
     "execution_count": 89,
     "metadata": {},
     "output_type": "execute_result"
    }
   ],
   "source": [
    "cols = [c for c in train_df.columns if 'X' in c]\n",
    "print('Number of features: {}'.format(len(cols)))\n",
    "\n",
    "print('Feature types:')\n",
    "train_df[cols].dtypes.value_counts()"
   ]
  },
  {
   "cell_type": "code",
   "execution_count": 90,
   "metadata": {},
   "outputs": [
    {
     "name": "stdout",
     "output_type": "stream",
     "text": [
      "Constant features: 95 Binary features: 274 Categorical features: 7\n",
      "\n",
      "Constant features: ['X4', 'X11', 'X15', 'X33', 'X36', 'X38', 'X39', 'X40', 'X42', 'X53', 'X59', 'X60', 'X63', 'X74', 'X78', 'X83', 'X86', 'X87', 'X88', 'X89', 'X90', 'X91', 'X92', 'X93', 'X94', 'X95', 'X99', 'X102', 'X105', 'X107', 'X110', 'X122', 'X123', 'X124', 'X145', 'X153', 'X160', 'X167', 'X190', 'X192', 'X200', 'X207', 'X210', 'X214', 'X217', 'X233', 'X235', 'X236', 'X239', 'X242', 'X243', 'X245', 'X248', 'X249', 'X253', 'X257', 'X259', 'X260', 'X268', 'X269', 'X270', 'X271', 'X277', 'X278', 'X280', 'X281', 'X282', 'X288', 'X289', 'X290', 'X293', 'X295', 'X296', 'X297', 'X298', 'X299', 'X301', 'X307', 'X310', 'X312', 'X318', 'X319', 'X320', 'X330', 'X332', 'X338', 'X339', 'X345', 'X347', 'X357', 'X369', 'X370', 'X379', 'X383', 'X385']\n",
      "Categorical features: ['X0', 'X1', 'X2', 'X3', 'X5', 'X6', 'X8']\n"
     ]
    }
   ],
   "source": [
    "counts = [[], [], []]\n",
    "for c in cols:\n",
    "    typ = train_df[c].dtype\n",
    "    uniq = len(np.unique(train_df[c]))\n",
    "    if uniq == 1: counts[0].append(c)\n",
    "    elif uniq == 2 and typ == np.int64: counts[1].append(c)\n",
    "    else: counts[2].append(c)\n",
    "\n",
    "print('Constant features: {} Binary features: {} Categorical features: {}\\n'.format(*[len(c) for c in counts]))\n",
    "\n",
    "print('Constant features:', counts[0])\n",
    "print('Categorical features:', counts[2])"
   ]
  },
  {
   "cell_type": "code",
   "execution_count": 91,
   "metadata": {},
   "outputs": [
    {
     "data": {
      "image/png": "[encoded data removed]",
      "text/plain": [
       "<Figure size 864x2160 with 3 Axes>"
      ]
     },
     "metadata": {
      "needs_background": "light"
     },
     "output_type": "display_data"
    }
   ],
   "source": [
    "binary_means = [np.mean(train_df[c]) for c in counts[1]]\n",
    "binary_names = np.array(counts[1])[np.argsort(binary_means)]\n",
    "binary_means = np.sort(binary_means)\n",
    "\n",
    "fig, ax = plt.subplots(1, 3, figsize=(12,30))\n",
    "ax[0].set_ylabel('Feature name')\n",
    "ax[1].set_title('Mean values of binary variables')\n",
    "for i in range(3):\n",
    "    names, means = binary_names[i*119:(i+1)*119], binary_means[i*119:(i+1)*119]\n",
    "    ax[i].barh(range(len(means)), means, )\n",
    "    ax[i].set_xlabel('Mean value')\n",
    "    ax[i].set_yticks(range(len(means)))\n",
    "    ax[i].set_yticklabels(names, rotation='horizontal')\n",
    "plt.show()"
   ]
  },
  {
   "cell_type": "markdown",
   "metadata": {},
   "source": [
    "## 3)Label Encoding"
   ]
  },
  {
   "cell_type": "code",
   "execution_count": 92,
   "metadata": {},
   "outputs": [],
   "source": [
    "from sklearn.preprocessing import LabelEncoder\n",
    "from sklearn.preprocessing import OneHotEncoder"
   ]
  },
  {
   "cell_type": "code",
   "execution_count": 93,
   "metadata": {},
   "outputs": [],
   "source": [
    "for c in train_df.columns:\n",
    "    if train_df[c].dtype == 'object':\n",
    "        lbl = LabelEncoder() \n",
    "        lbl.fit(list(train_df[c].values) + list(test_df[c].values)) \n",
    "        train_df[c] = lbl.transform(list(train_df[c].values))\n",
    "        test_df[c] = lbl.transform(list(test_df[c].values))\n"
   ]
  },
  {
   "cell_type": "code",
   "execution_count": 94,
   "metadata": {},
   "outputs": [
    {
     "name": "stdout",
     "output_type": "stream",
     "text": [
      "Shape train: (200, 378)\n",
      "Shape test: (4209, 377)\n"
     ]
    }
   ],
   "source": [
    "print('Shape train: {}\\nShape test: {}'.format(train_df.shape, test_df.shape))"
   ]
  },
  {
   "cell_type": "markdown",
   "metadata": {},
   "source": [
    "## 4)Dimensionality reduction."
   ]
  },
  {
   "cell_type": "code",
   "execution_count": 107,
   "metadata": {},
   "outputs": [],
   "source": [
    "from sklearn.random_projection import GaussianRandomProjection\n",
    "from sklearn.random_projection import SparseRandomProjection\n",
    "from sklearn.decomposition import PCA, FastICA\n",
    "from sklearn.decomposition import TruncatedSVD\n",
    "from sklearn.decomposition import NMF\n",
    "from sklearn.cluster import FeatureAgglomeration\n",
    "\n",
    "from sklearn.ensemble import RandomForestRegressor\n",
    "from sklearn.linear_model import ElasticNet\n",
    "from sklearn.linear_model import Ridge\n",
    "\n",
    "from sklearn.metrics import r2_score"
   ]
  },
  {
   "cell_type": "code",
   "execution_count": 109,
   "metadata": {},
   "outputs": [],
   "source": [
    "train = pd.read_csv('train.csv')\n",
    "test = pd.read_csv('test.csv')\n",
    "\n",
    "# removing the outlier\n",
    "train = train.loc[train['y'] < 170, :]\n",
    "\n",
    "# seperating label and features\n",
    "y_train = train['y']\n",
    "train = train.drop('y', axis=1)\n",
    "\n",
    "# label encoding the categorical features for dimension reduction\n",
    "for c in train.columns:\n",
    "    if train[c].dtype == 'object':\n",
    "        lbl = LabelEncoder()\n",
    "        lbl.fit(list(train[c].values) + list(test[c].values))\n",
    "        train[c] = lbl.transform(list(train[c].values))\n",
    "        test[c] = lbl.transform(list(test[c].values))"
   ]
  },
  {
   "cell_type": "code",
   "execution_count": 110,
   "metadata": {},
   "outputs": [],
   "source": [
    "n_comp = 12\n",
    "\n",
    "# tSVD\n",
    "tsvd = TruncatedSVD(n_components=n_comp, random_state=420)\n",
    "tsvd_results_train = tsvd.fit_transform(train)\n",
    "tsvd_results_test = tsvd.transform(test)\n",
    "\n",
    "# PCA\n",
    "pca = PCA(n_components=n_comp, random_state=420)\n",
    "pca2_results_train = pca.fit_transform(train)\n",
    "pca2_results_test = pca.transform(test)\n",
    "\n",
    "# ICA\n",
    "ica = FastICA(n_components=n_comp, random_state=420)\n",
    "ica2_results_train = ica.fit_transform(train)\n",
    "ica2_results_test = ica.transform(test)\n",
    "\n",
    "# GRP\n",
    "grp = GaussianRandomProjection(n_components=n_comp, eps=0.1, random_state=420)\n",
    "grp_results_train = grp.fit_transform(train)\n",
    "grp_results_test = grp.transform(test)\n",
    "\n",
    "# SRP\n",
    "srp = SparseRandomProjection(n_components=n_comp, dense_output=True, random_state=420)\n",
    "srp_results_train = srp.fit_transform(train)\n",
    "srp_results_test = srp.transform(test)\n",
    "\n",
    "# NMF\n",
    "nmf = NMF(n_components=n_comp, init='nndsvdar', random_state=420)\n",
    "nmf_results_train = nmf.fit_transform(train)\n",
    "nmf_results_test = nmf.transform(test)\n",
    "\n",
    "# FAG\n",
    "fag = FeatureAgglomeration(n_clusters=n_comp, linkage='ward')\n",
    "fag_results_train = fag.fit_transform(train)\n",
    "fag_results_test = fag.transform(test)"
   ]
  },
  {
   "cell_type": "markdown",
   "metadata": {},
   "source": [
    "### Filtering the most significant components and inserting in a Dataframe"
   ]
  },
  {
   "cell_type": "code",
   "execution_count": 111,
   "metadata": {},
   "outputs": [],
   "source": [
    "dim_reds = list()\n",
    "train_pca = pd.DataFrame()\n",
    "test_pca = pd.DataFrame()\n",
    "\n",
    "train_ica = pd.DataFrame()\n",
    "test_ica = pd.DataFrame()\n",
    "\n",
    "train_tsvd = pd.DataFrame()\n",
    "test_tsvd = pd.DataFrame()\n",
    "\n",
    "train_grp = pd.DataFrame()\n",
    "test_grp = pd.DataFrame()\n",
    "\n",
    "train_srp = pd.DataFrame()\n",
    "test_srp = pd.DataFrame()\n",
    "\n",
    "train_nmf = pd.DataFrame()\n",
    "test_nmf = pd.DataFrame()\n",
    "\n",
    "train_fag = pd.DataFrame()\n",
    "test_fag = pd.DataFrame()\n",
    "\n",
    "\n",
    "for i in range(1, n_comp + 1):\n",
    "    train_pca['pca_' + str(i)] = pca2_results_train[:, i - 1]\n",
    "    test_pca['pca_' + str(i)] = pca2_results_test[:, i - 1]\n",
    "\n",
    "    train_ica['ica_' + str(i)] = ica2_results_train[:, i - 1]\n",
    "    test_ica['ica_' + str(i)] = ica2_results_test[:, i - 1]\n",
    "\n",
    "    train_tsvd['tsvd_' + str(i)] = tsvd_results_train[:, i - 1]\n",
    "    test_tsvd['tsvd_' + str(i)] = tsvd_results_test[:, i - 1]\n",
    "\n",
    "    train_grp['grp_' + str(i)] = grp_results_train[:, i - 1]\n",
    "    test_grp['grp_' + str(i)] = grp_results_test[:, i - 1]\n",
    "\n",
    "    train_srp['srp_' + str(i)] = srp_results_train[:, i - 1]\n",
    "    test_srp['srp_' + str(i)] = srp_results_test[:, i - 1]\n",
    "    \n",
    "    train_nmf['nmf_' + str(i)] = nmf_results_train[:, i - 1]\n",
    "    test_nmf['nmf_' + str(i)] = nmf_results_test[:, i - 1]\n",
    "    \n",
    "    train_fag['fag_' + str(i)] = fag_results_train[:, i - 1]\n",
    "    test_fag['fag_' + str(i)] = fag_results_test[:, i - 1]\n",
    "    \n",
    "dim_reds.append(('pca', train_pca, test_pca))\n",
    "dim_reds.append(('ica', train_ica, test_ica))\n",
    "dim_reds.append(('tsvd', train_tsvd, test_tsvd))\n",
    "dim_reds.append(('grp', train_grp, test_grp))\n",
    "dim_reds.append(('srp', train_srp, test_srp))\n",
    "dim_reds.append(('nmf', train_nmf, test_nmf))\n",
    "dim_reds.append(('fag', train_fag, test_fag))"
   ]
  },
  {
   "cell_type": "code",
   "execution_count": null,
   "metadata": {},
   "outputs": [],
   "source": []
  },
  {
   "cell_type": "markdown",
   "metadata": {},
   "source": [
    "## 5)XG Boost "
   ]
  },
  {
   "cell_type": "markdown",
   "metadata": {},
   "source": [
    "### Train test split"
   ]
  },
  {
   "cell_type": "code",
   "execution_count": 95,
   "metadata": {},
   "outputs": [],
   "source": [
    "from sklearn.decomposition import PCA, FastICA\n",
    "from sklearn.decomposition import TruncatedSVD\n",
    "n_comp = 12"
   ]
  },
  {
   "cell_type": "code",
   "execution_count": 96,
   "metadata": {},
   "outputs": [],
   "source": [
    "tsvd = TruncatedSVD(n_components=n_comp, random_state=42)\n",
    "tsvd_results_train = tsvd.fit_transform(train_df.drop([\"y\"], axis=1))\n",
    "tsvd_results_test = tsvd.transform(test_df)"
   ]
  },
  {
   "cell_type": "code",
   "execution_count": 97,
   "metadata": {},
   "outputs": [],
   "source": [
    "pca = PCA(n_components=n_comp, random_state=42)\n",
    "pca2_results_train = pca.fit_transform(train_df.drop([\"y\"], axis=1))\n",
    "pca2_results_test = pca.transform(test_df)\n"
   ]
  },
  {
   "cell_type": "code",
   "execution_count": 98,
   "metadata": {},
   "outputs": [],
   "source": [
    "ica = FastICA(n_components=n_comp, random_state=42)\n",
    "ica2_results_train = ica.fit_transform(train_df.drop([\"y\"], axis=1))\n",
    "ica2_results_test = ica.transform(test_df)"
   ]
  },
  {
   "cell_type": "code",
   "execution_count": 99,
   "metadata": {},
   "outputs": [],
   "source": [
    "for i in range(1, n_comp+1):\n",
    "    train_df['pca_' + str(i)] = pca2_results_train[:,i-1]\n",
    "    test_df['pca_' + str(i)] = pca2_results_test[:, i-1]\n",
    "    \n",
    "    train_df['ica_' + str(i)] = ica2_results_train[:,i-1]\n",
    "    test_df['ica_' + str(i)] = ica2_results_test[:, i-1]"
   ]
  },
  {
   "cell_type": "code",
   "execution_count": 100,
   "metadata": {},
   "outputs": [],
   "source": [
    "y_train = train_df[\"y\"]\n",
    "y_mean = np.mean(y_train)"
   ]
  },
  {
   "cell_type": "code",
   "execution_count": 101,
   "metadata": {},
   "outputs": [],
   "source": [
    "import xgboost as xgb"
   ]
  },
  {
   "cell_type": "code",
   "execution_count": 102,
   "metadata": {},
   "outputs": [],
   "source": [
    "xgb_params = {\n",
    "    'n_trees': 500, \n",
    "    'eta': 0.005,\n",
    "    'max_depth': 4,\n",
    "    'subsample': 0.95,\n",
    "    'objective': 'reg:linear',\n",
    "    'eval_metric': 'rmse',\n",
    "    'base_score': y_mean, # base prediction = mean(target)\n",
    "    'silent': 1\n",
    "}"
   ]
  },
  {
   "cell_type": "code",
   "execution_count": 103,
   "metadata": {},
   "outputs": [],
   "source": [
    "dtrain = xgb.DMatrix(train_df.drop('y', axis=1), y_train)\n",
    "dtest = xgb.DMatrix(test_df)\n"
   ]
  },
  {
   "cell_type": "code",
   "execution_count": 104,
   "metadata": {},
   "outputs": [
    {
     "name": "stdout",
     "output_type": "stream",
     "text": [
      "[22:24:03] WARNING: C:/Users/Administrator/workspace/xgboost-win64_release_1.0.0/src/objective/regression_obj.cu:167: reg:linear is now deprecated in favor of reg:squarederror.\n",
      "[22:24:03] WARNING: C:\\Users\\Administrator\\workspace\\xgboost-win64_release_1.0.0\\src\\learner.cc:328: \n",
      "Parameters: { n_trees, silent } might not be used.\n",
      "\n",
      "  This may not be accurate due to some parameters are only used in language bindings but\n",
      "  passed down to XGBoost core.  Or some parameters are not used but slip through this\n",
      "  verification. Please open an issue if you find above cases.\n",
      "\n",
      "\n"
     ]
    }
   ],
   "source": [
    "num_boost_rounds = 1500\n",
    "# train model\n",
    "model = xgb.train(dict(xgb_params, silent=0), dtrain, num_boost_round=num_boost_rounds)\n"
   ]
  },
  {
   "cell_type": "code",
   "execution_count": 105,
   "metadata": {},
   "outputs": [
    {
     "name": "stdout",
     "output_type": "stream",
     "text": [
      "0.9670665251548802\n"
     ]
    }
   ],
   "source": [
    "from sklearn.metrics import r2_score\n",
    "print(r2_score(model.predict(dtrain), dtrain.get_label()))"
   ]
  },
  {
   "cell_type": "code",
   "execution_count": 106,
   "metadata": {},
   "outputs": [
    {
     "name": "stdout",
     "output_type": "stream",
     "text": [
      "0.9670665251548802\n"
     ]
    }
   ],
   "source": [
    "from sklearn.metrics import r2_score\n",
    "print(r2_score(model.predict(dtrain), dtrain.get_label()))"
   ]
  },
  {
   "cell_type": "code",
   "execution_count": null,
   "metadata": {},
   "outputs": [],
   "source": []
  }
 ],
 "metadata": {
  "kernelspec": {
   "display_name": "Python 3",
   "language": "python",
   "name": "python3"
  },
  "language_info": {
   "codemirror_mode": {
    "name": "ipython",
    "version": 3
   },
   "file_extension": ".py",
   "mimetype": "text/x-python",
   "name": "python",
   "nbconvert_exporter": "python",
   "pygments_lexer": "ipython3",
   "version": "3.7.3"
  }
 },
 "nbformat": 4,
 "nbformat_minor": 2
}
